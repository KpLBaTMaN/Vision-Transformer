{
 "cells": [
  {
   "cell_type": "code",
   "execution_count": 1,
   "id": "4f27812b",
   "metadata": {},
   "outputs": [
    {
     "name": "stdout",
     "output_type": "stream",
     "text": [
      "__CUDNN VERSION: 8500\n",
      "__Number CUDA Devices: 1\n",
      "__CUDA Device Name: NVIDIA GeForce RTX 2080 SUPER\n",
      "__CUDA Device Total Memory [GB]: 8.58947584\n",
      "Total memory -> 7.99957275390625 GB\n",
      "Memory reserved -> 0.0 GB\n",
      "Memory allocated -> 0.0 GB\n",
      "Free reserved -> 0.0 GB\n",
      "\n",
      "Device:  cuda\n"
     ]
    }
   ],
   "source": [
    "from utils_library.cuda import get_cuda\n",
    "\n",
    "device = get_cuda()\n",
    "print(\"\\nDevice: \", device)"
   ]
  },
  {
   "cell_type": "code",
   "execution_count": 2,
   "id": "24000b9a",
   "metadata": {},
   "outputs": [
    {
     "data": {
      "text/plain": [
       "True"
      ]
     },
     "execution_count": 2,
     "metadata": {},
     "output_type": "execute_result"
    }
   ],
   "source": [
    "from __future__ import print_function\n",
    "import matplotlib\n",
    "import matplotlib.pyplot as plt\n",
    "import numpy as np\n",
    "import pandas as pd\n",
    "import torch\n",
    "import torch.nn as nn\n",
    "import torch.optim as optim\n",
    "\n",
    "from PIL import Image\n",
    "from torch.optim.lr_scheduler import StepLR\n",
    "from tqdm.notebook import tqdm\n",
    "from sklearn.metrics import roc_curve, roc_auc_score\n",
    "from sklearn.metrics import confusion_matrix\n",
    "import torch.utils.data as data\n",
    "import torchvision\n",
    "from torchvision import transforms\n",
    "from tqdm import tqdm\n",
    "torch.cuda.is_available()"
   ]
  },
  {
   "cell_type": "code",
   "execution_count": 3,
   "id": "b1176b33",
   "metadata": {},
   "outputs": [],
   "source": [
    "from utils_library.vit import ViT"
   ]
  },
  {
   "attachments": {},
   "cell_type": "markdown",
   "id": "164f23e0",
   "metadata": {},
   "source": [
    "# Hyperparameters"
   ]
  },
  {
   "cell_type": "code",
   "execution_count": 4,
   "id": "335ee8c4",
   "metadata": {},
   "outputs": [],
   "source": [
    "# Hyperparameters:\n",
    "batch_size = 64 \n",
    "num_epochs = 20\n",
    "lr = 3e-5  # 0.00003\n",
    "gamma = 0.7\n",
    "seed = 142\n",
    "\n",
    "\n",
    "# Model Settings \n",
    "\n",
    "img_size=128\n",
    "num_channels=3\n",
    "patch_size=32\n",
    "\n",
    "num_classes=2\n",
    "num_heads=8\n",
    "num_transformer_layers=12\n",
    "\n",
    "embedding_dim=768\n",
    "dropout=0.1\n",
    "mlp_size=3072\n"
   ]
  },
  {
   "attachments": {},
   "cell_type": "markdown",
   "id": "494d29f1",
   "metadata": {},
   "source": [
    "# Tensor Transforms"
   ]
  },
  {
   "cell_type": "code",
   "execution_count": 5,
   "id": "50e52790",
   "metadata": {},
   "outputs": [],
   "source": [
    "# Define the transformation to be applied to the images\n",
    "transform = transforms.Compose([\n",
    "    transforms.Resize((img_size, img_size)),  # Resize the images to a fixed size\n",
    "    transforms.ToTensor(),  # Convert images to tensors\n",
    "    # transforms.Normalize(mean=[0.485, 0.456, 0.406], std=[0.229, 0.224, 0.225])  # Normalize image tensors\n",
    "])"
   ]
  },
  {
   "cell_type": "code",
   "execution_count": 6,
   "id": "35d2a245",
   "metadata": {},
   "outputs": [],
   "source": [
    "train_ds = torchvision.datasets.ImageFolder(\"data/train\", transform=transform)\n",
    "valid_ds = torchvision.datasets.ImageFolder(\"data/validation\", transform=transform)\n",
    "test_ds = torchvision.datasets.ImageFolder(\"data/test\", transform=transform)"
   ]
  },
  {
   "attachments": {},
   "cell_type": "markdown",
   "id": "52af3b14",
   "metadata": {},
   "source": [
    "# Data Loaders"
   ]
  },
  {
   "cell_type": "code",
   "execution_count": 7,
   "id": "1b8f0715",
   "metadata": {},
   "outputs": [],
   "source": [
    "train_dataloader = data.DataLoader(train_ds, batch_size=batch_size, shuffle=True,  num_workers=4)\n",
    "val_dataloader = data.DataLoader(valid_ds, batch_size=batch_size, shuffle=True,  num_workers=4)\n",
    "test_dataloader  = data.DataLoader(test_ds, batch_size=batch_size, shuffle=True, num_workers=4)"
   ]
  },
  {
   "attachments": {},
   "cell_type": "markdown",
   "id": "6e68fb64",
   "metadata": {},
   "source": [
    "# Model Building"
   ]
  },
  {
   "cell_type": "code",
   "execution_count": 8,
   "id": "b568aff4",
   "metadata": {},
   "outputs": [],
   "source": [
    "# Vision Transformer Model\n",
    "model = ViT(\n",
    "    img_size=img_size,\n",
    "    num_channels=num_channels, \n",
    "    patch_size=patch_size,\n",
    "    \n",
    "    embedding_dim=embedding_dim,\n",
    "    dropout=dropout,\n",
    "    mlp_size=mlp_size,\n",
    "\n",
    "    num_transformer_layers=num_transformer_layers,\n",
    "    num_heads=num_heads,\n",
    "    num_classes=num_classes\n",
    "    )\n",
    "\n",
    "# loss function\n",
    "criterion = nn.CrossEntropyLoss()\n",
    "\n",
    "# Optimizer\n",
    "optimizer = optim.Adam(model.parameters(), lr=lr)\n",
    "\n",
    "# Learning Rate Scheduler for Optimizer:\n",
    "scheduler = StepLR(optimizer, step_size=1, gamma=gamma)"
   ]
  },
  {
   "cell_type": "code",
   "execution_count": 9,
   "id": "f22b8f0c",
   "metadata": {},
   "outputs": [
    {
     "data": {
      "text/plain": [
       "===============================================================================================\n",
       "Layer (type:depth-idx)                        Output Shape              Param #\n",
       "===============================================================================================\n",
       "ViT                                           [1, 2]                    13,824\n",
       "├─PatchEmbedding: 1-1                         [1, 16, 768]              --\n",
       "│    └─Conv2d: 2-1                            [1, 768, 4, 4]            2,360,064\n",
       "│    └─Flatten: 2-2                           [1, 768, 16]              --\n",
       "├─Dropout: 1-2                                [1, 17, 768]              --\n",
       "├─TransformerEncoder: 1-3                     [1, 17, 768]              --\n",
       "│    └─ModuleList: 2-3                        --                        --\n",
       "│    │    └─TransformerEncoderLayer: 3-1      [1, 17, 768]              7,087,872\n",
       "│    │    └─TransformerEncoderLayer: 3-2      [1, 17, 768]              7,087,872\n",
       "│    │    └─TransformerEncoderLayer: 3-3      [1, 17, 768]              7,087,872\n",
       "│    │    └─TransformerEncoderLayer: 3-4      [1, 17, 768]              7,087,872\n",
       "│    │    └─TransformerEncoderLayer: 3-5      [1, 17, 768]              7,087,872\n",
       "│    │    └─TransformerEncoderLayer: 3-6      [1, 17, 768]              7,087,872\n",
       "│    │    └─TransformerEncoderLayer: 3-7      [1, 17, 768]              7,087,872\n",
       "│    │    └─TransformerEncoderLayer: 3-8      [1, 17, 768]              7,087,872\n",
       "│    │    └─TransformerEncoderLayer: 3-9      [1, 17, 768]              7,087,872\n",
       "│    │    └─TransformerEncoderLayer: 3-10     [1, 17, 768]              7,087,872\n",
       "│    │    └─TransformerEncoderLayer: 3-11     [1, 17, 768]              7,087,872\n",
       "│    │    └─TransformerEncoderLayer: 3-12     [1, 17, 768]              7,087,872\n",
       "├─Sequential: 1-4                             [1, 2]                    --\n",
       "│    └─LayerNorm: 2-4                         [1, 768]                  1,536\n",
       "│    └─Linear: 2-5                            [1, 2]                    1,538\n",
       "===============================================================================================\n",
       "Total params: 87,431,426\n",
       "Trainable params: 87,431,426\n",
       "Non-trainable params: 0\n",
       "Total mult-adds (Units.MEGABYTES): 37.76\n",
       "===============================================================================================\n",
       "Input size (MB): 0.20\n",
       "Forward/backward pass size (MB): 0.10\n",
       "Params size (MB): 9.45\n",
       "Estimated Total Size (MB): 9.75\n",
       "==============================================================================================="
      ]
     },
     "execution_count": 9,
     "metadata": {},
     "output_type": "execute_result"
    }
   ],
   "source": [
    "from torchinfo import summary \n",
    "from torchviz import make_dot\n",
    "\n",
    "summary(model=model,\n",
    "        input_size=(1, num_channels, img_size, img_size))\n",
    "# make_dot( params=dict(model.named_parameters()))"
   ]
  },
  {
   "cell_type": "code",
   "execution_count": 10,
   "id": "1e6b6075",
   "metadata": {},
   "outputs": [
    {
     "name": "stdout",
     "output_type": "stream",
     "text": [
      "Epoch:  0\n"
     ]
    },
    {
     "name": "stderr",
     "output_type": "stream",
     "text": [
      "  0%|          | 0/274 [00:00<?, ?it/s]"
     ]
    },
    {
     "name": "stderr",
     "output_type": "stream",
     "text": [
      "100%|██████████| 274/274 [00:42<00:00,  6.51it/s]\n",
      "100%|██████████| 40/40 [00:12<00:00,  3.19it/s]\n"
     ]
    },
    {
     "name": "stdout",
     "output_type": "stream",
     "text": [
      "Epoch [1/20], Training Loss: 0.7174, Validation Loss: 0.6864, Validation Accuracy: 0.5037\n",
      "Epoch:  1\n"
     ]
    },
    {
     "name": "stderr",
     "output_type": "stream",
     "text": [
      "100%|██████████| 274/274 [00:40<00:00,  6.71it/s]\n",
      "100%|██████████| 40/40 [00:12<00:00,  3.22it/s]\n"
     ]
    },
    {
     "name": "stdout",
     "output_type": "stream",
     "text": [
      "Epoch [2/20], Training Loss: 0.6841, Validation Loss: 0.6554, Validation Accuracy: 0.5524\n",
      "Epoch:  2\n"
     ]
    },
    {
     "name": "stderr",
     "output_type": "stream",
     "text": [
      "100%|██████████| 274/274 [00:40<00:00,  6.75it/s]\n",
      "100%|██████████| 40/40 [00:12<00:00,  3.25it/s]\n"
     ]
    },
    {
     "name": "stdout",
     "output_type": "stream",
     "text": [
      "Epoch [3/20], Training Loss: 0.6697, Validation Loss: 0.6430, Validation Accuracy: 0.5939\n",
      "Epoch:  3\n"
     ]
    },
    {
     "name": "stderr",
     "output_type": "stream",
     "text": [
      "100%|██████████| 274/274 [00:40<00:00,  6.76it/s]\n",
      "100%|██████████| 40/40 [00:12<00:00,  3.23it/s]\n"
     ]
    },
    {
     "name": "stdout",
     "output_type": "stream",
     "text": [
      "Epoch [4/20], Training Loss: 0.6548, Validation Loss: 0.6465, Validation Accuracy: 0.6102\n",
      "Epoch:  4\n"
     ]
    },
    {
     "name": "stderr",
     "output_type": "stream",
     "text": [
      "100%|██████████| 274/274 [00:40<00:00,  6.69it/s]\n",
      "100%|██████████| 40/40 [00:12<00:00,  3.22it/s]\n"
     ]
    },
    {
     "name": "stdout",
     "output_type": "stream",
     "text": [
      "Epoch [5/20], Training Loss: 0.6516, Validation Loss: 0.6384, Validation Accuracy: 0.6119\n",
      "Epoch:  5\n"
     ]
    },
    {
     "name": "stderr",
     "output_type": "stream",
     "text": [
      "100%|██████████| 274/274 [00:42<00:00,  6.51it/s]\n",
      "100%|██████████| 40/40 [00:12<00:00,  3.23it/s]\n"
     ]
    },
    {
     "name": "stdout",
     "output_type": "stream",
     "text": [
      "Epoch [6/20], Training Loss: 0.6457, Validation Loss: 0.6382, Validation Accuracy: 0.6208\n",
      "Epoch:  6\n"
     ]
    },
    {
     "name": "stderr",
     "output_type": "stream",
     "text": [
      "100%|██████████| 274/274 [00:41<00:00,  6.59it/s]\n",
      "100%|██████████| 40/40 [00:13<00:00,  3.03it/s]\n"
     ]
    },
    {
     "name": "stdout",
     "output_type": "stream",
     "text": [
      "Epoch [7/20], Training Loss: 0.6361, Validation Loss: 0.6373, Validation Accuracy: 0.6293\n",
      "Epoch:  7\n"
     ]
    },
    {
     "name": "stderr",
     "output_type": "stream",
     "text": [
      "100%|██████████| 274/274 [00:42<00:00,  6.44it/s]\n",
      "100%|██████████| 40/40 [00:12<00:00,  3.25it/s]\n"
     ]
    },
    {
     "name": "stdout",
     "output_type": "stream",
     "text": [
      "Epoch [8/20], Training Loss: 0.6293, Validation Loss: 0.6191, Validation Accuracy: 0.6374\n",
      "Epoch:  8\n"
     ]
    },
    {
     "name": "stderr",
     "output_type": "stream",
     "text": [
      "100%|██████████| 274/274 [00:41<00:00,  6.57it/s]\n",
      "100%|██████████| 40/40 [00:12<00:00,  3.18it/s]\n"
     ]
    },
    {
     "name": "stdout",
     "output_type": "stream",
     "text": [
      "Epoch [9/20], Training Loss: 0.6136, Validation Loss: 0.6028, Validation Accuracy: 0.6537\n",
      "Epoch:  9\n"
     ]
    },
    {
     "name": "stderr",
     "output_type": "stream",
     "text": [
      "100%|██████████| 274/274 [00:42<00:00,  6.49it/s]\n",
      "100%|██████████| 40/40 [00:12<00:00,  3.24it/s]\n"
     ]
    },
    {
     "name": "stdout",
     "output_type": "stream",
     "text": [
      "Epoch [10/20], Training Loss: 0.5994, Validation Loss: 0.6235, Validation Accuracy: 0.6660\n",
      "Epoch:  10\n"
     ]
    },
    {
     "name": "stderr",
     "output_type": "stream",
     "text": [
      "100%|██████████| 274/274 [00:40<00:00,  6.74it/s]\n",
      "100%|██████████| 40/40 [00:12<00:00,  3.25it/s]\n"
     ]
    },
    {
     "name": "stdout",
     "output_type": "stream",
     "text": [
      "Epoch [11/20], Training Loss: 0.5892, Validation Loss: 0.5759, Validation Accuracy: 0.6757\n",
      "Epoch:  11\n"
     ]
    },
    {
     "name": "stderr",
     "output_type": "stream",
     "text": [
      "100%|██████████| 274/274 [00:42<00:00,  6.52it/s]\n",
      "100%|██████████| 40/40 [00:12<00:00,  3.24it/s]\n"
     ]
    },
    {
     "name": "stdout",
     "output_type": "stream",
     "text": [
      "Epoch [12/20], Training Loss: 0.5781, Validation Loss: 0.5871, Validation Accuracy: 0.6881\n",
      "Epoch:  12\n"
     ]
    },
    {
     "name": "stderr",
     "output_type": "stream",
     "text": [
      "100%|██████████| 274/274 [00:42<00:00,  6.44it/s]\n",
      "100%|██████████| 40/40 [00:12<00:00,  3.28it/s]\n"
     ]
    },
    {
     "name": "stdout",
     "output_type": "stream",
     "text": [
      "Epoch [13/20], Training Loss: 0.5703, Validation Loss: 0.5922, Validation Accuracy: 0.6956\n",
      "Epoch:  13\n"
     ]
    },
    {
     "name": "stderr",
     "output_type": "stream",
     "text": [
      "100%|██████████| 274/274 [00:42<00:00,  6.50it/s]\n",
      "100%|██████████| 40/40 [00:12<00:00,  3.27it/s]\n"
     ]
    },
    {
     "name": "stdout",
     "output_type": "stream",
     "text": [
      "Epoch [14/20], Training Loss: 0.5569, Validation Loss: 0.5753, Validation Accuracy: 0.7069\n",
      "Epoch:  14\n"
     ]
    },
    {
     "name": "stderr",
     "output_type": "stream",
     "text": [
      "100%|██████████| 274/274 [00:42<00:00,  6.45it/s]\n",
      "100%|██████████| 40/40 [00:12<00:00,  3.26it/s]\n"
     ]
    },
    {
     "name": "stdout",
     "output_type": "stream",
     "text": [
      "Epoch [15/20], Training Loss: 0.5453, Validation Loss: 0.5837, Validation Accuracy: 0.7172\n",
      "Epoch:  15\n"
     ]
    },
    {
     "name": "stderr",
     "output_type": "stream",
     "text": [
      "100%|██████████| 274/274 [00:42<00:00,  6.50it/s]\n",
      "100%|██████████| 40/40 [00:12<00:00,  3.20it/s]\n"
     ]
    },
    {
     "name": "stdout",
     "output_type": "stream",
     "text": [
      "Epoch [16/20], Training Loss: 0.5397, Validation Loss: 0.6052, Validation Accuracy: 0.7204\n",
      "Epoch:  16\n"
     ]
    },
    {
     "name": "stderr",
     "output_type": "stream",
     "text": [
      "100%|██████████| 274/274 [00:42<00:00,  6.45it/s]\n",
      "100%|██████████| 40/40 [00:12<00:00,  3.24it/s]\n"
     ]
    },
    {
     "name": "stdout",
     "output_type": "stream",
     "text": [
      "Epoch [17/20], Training Loss: 0.5259, Validation Loss: 0.5792, Validation Accuracy: 0.7315\n",
      "Epoch:  17\n"
     ]
    },
    {
     "name": "stderr",
     "output_type": "stream",
     "text": [
      "100%|██████████| 274/274 [00:41<00:00,  6.58it/s]\n",
      "100%|██████████| 40/40 [00:12<00:00,  3.26it/s]\n"
     ]
    },
    {
     "name": "stdout",
     "output_type": "stream",
     "text": [
      "Epoch [18/20], Training Loss: 0.5149, Validation Loss: 0.6209, Validation Accuracy: 0.7388\n",
      "Epoch:  18\n"
     ]
    },
    {
     "name": "stderr",
     "output_type": "stream",
     "text": [
      "100%|██████████| 274/274 [00:42<00:00,  6.46it/s]\n",
      "100%|██████████| 40/40 [00:12<00:00,  3.10it/s]\n"
     ]
    },
    {
     "name": "stdout",
     "output_type": "stream",
     "text": [
      "Epoch [19/20], Training Loss: 0.5019, Validation Loss: 0.5675, Validation Accuracy: 0.7483\n",
      "Epoch:  19\n"
     ]
    },
    {
     "name": "stderr",
     "output_type": "stream",
     "text": [
      "100%|██████████| 274/274 [00:45<00:00,  6.04it/s]\n",
      "100%|██████████| 40/40 [00:12<00:00,  3.12it/s]\n"
     ]
    },
    {
     "name": "stdout",
     "output_type": "stream",
     "text": [
      "Epoch [20/20], Training Loss: 0.4878, Validation Loss: 0.6081, Validation Accuracy: 0.7606\n"
     ]
    },
    {
     "name": "stderr",
     "output_type": "stream",
     "text": [
      "100%|██████████| 79/79 [00:18<00:00,  4.16it/s]\n"
     ]
    },
    {
     "name": "stdout",
     "output_type": "stream",
     "text": [
      "Test Accuracy: 0.7032\n"
     ]
    }
   ],
   "source": [
    "training_loop_results = []\n",
    "\n",
    "\n",
    "# Training loop\n",
    "for epoch in range(num_epochs):\n",
    "    print(\"Epoch: \", epoch)\n",
    "\n",
    "    model.train()  # Set model to training mode\n",
    "\n",
    "    epoch_loss = 0\n",
    "    epoch_accuracy = 0\n",
    "\n",
    "    for images, labels in tqdm(train_dataloader):\n",
    "        images = images.to(device)\n",
    "        labels = labels.to(device)\n",
    "\n",
    "        # Forward pass\n",
    "        outputs = model(images)\n",
    "\n",
    "        # Compute the loss\n",
    "        loss = criterion(outputs, labels)\n",
    "\n",
    "        # Zero the gradients\n",
    "        optimizer.zero_grad()\n",
    "        \n",
    "        # Backward pass and optimization\n",
    "        loss.backward()\n",
    "        optimizer.step()\n",
    "\n",
    "        acc = (outputs.argmax(dim=1) == labels).float().mean()\n",
    "        epoch_accuracy += acc / len(train_dataloader)\n",
    "        epoch_loss += loss / len(train_dataloader)\n",
    "\n",
    "\n",
    "    # Step 6: Evaluation\n",
    "    model.eval()\n",
    "    with torch.no_grad():\n",
    "        \n",
    "        epoch_val_accuracy = 0\n",
    "        epoch_val_loss = 0\n",
    "\n",
    "        for images, labels in tqdm(val_dataloader):\n",
    "            images = images.to(device)\n",
    "            labels = labels.to(device)\n",
    "\n",
    "            val_output = model(images)\n",
    "            val_loss = criterion(val_output, labels)\n",
    "\n",
    "            acc = (val_output.argmax(dim=1) == labels).float().mean()\n",
    "            epoch_val_accuracy += acc / len(val_dataloader)\n",
    "            epoch_val_loss += val_loss / len(val_dataloader)\n",
    "\n",
    "\n",
    "    # Print epoch statistics\n",
    "    print(f\"Epoch [{epoch+1}/{num_epochs}], \"\n",
    "          f\"Training Loss: {epoch_loss:.4f}, \"\n",
    "          f\"Validation Loss: {epoch_val_loss:.4f}, \"\n",
    "          f\"Validation Accuracy: {epoch_accuracy:.4f}\")\n",
    "    \n",
    "    training_loop_results.append({\"Epoch\": epoch+1,\"Training Loss\": epoch_loss, \"Validation Loss\": epoch_val_loss, \"Validation Accuracy\": epoch_accuracy})\n",
    "\n",
    "    # Define the file path for saving the model\n",
    "    model_path = f\"model_cats_dogs_{epoch+1}.pt\"\n",
    "\n",
    "    # Save the model\n",
    "    torch.save(model.state_dict(), model_path)\n",
    "\n",
    "\n",
    "# Evaluation on test set\n",
    "\n",
    "total_correct = 0\n",
    "total_samples = 0\n",
    "\n",
    "model.eval()\n",
    "with torch.no_grad():\n",
    "    \n",
    "    epoch_val_accuracy = 0\n",
    "    epoch_val_loss = 0\n",
    "\n",
    "    for images, labels in tqdm(test_dataloader):\n",
    "        images = images.to(device)\n",
    "        labels = labels.to(device)\n",
    "\n",
    "        outputs = model(images)\n",
    "        # val_loss = criterion(outputs, labels)\n",
    "\n",
    "        # acc = (val_output.argmax(dim=1) == labels).float().mean()\n",
    "        # epoch_val_accuracy += acc / len(test_dataloader)\n",
    "        # epoch_val_loss += val_loss / len(test_dataloader)\n",
    "\n",
    "        _, predicted = torch.max(outputs, 1)\n",
    "        total_correct += (predicted == labels).sum().item()\n",
    "        total_samples += labels.size(0)\n",
    "\n",
    "accuracy = total_correct / total_samples\n",
    "print(f\"Test Accuracy: {accuracy}\")\n",
    "\n",
    "# Step 8: Save and deploy the trained model\n",
    "torch.save(model.state_dict(), \"transformer_model.pth\")"
   ]
  },
  {
   "cell_type": "code",
   "execution_count": 23,
   "id": "d4fd540b",
   "metadata": {},
   "outputs": [],
   "source": [
    "import pandas as pd\n",
    "import re\n",
    "def extract_normal_value(tensor):\n",
    "    return tensor.item()\n",
    "\n",
    "df = pd.DataFrame(training_loop_results)\n",
    "df['Training Loss'] = df['Training Loss'].apply(extract_normal_value)\n",
    "df['Validation Loss'] = df['Validation Loss'].apply(extract_normal_value)\n",
    "df['Validation Accuracy'] = df['Validation Accuracy'].apply(extract_normal_value)"
   ]
  },
  {
   "cell_type": "code",
   "execution_count": 24,
   "id": "33e8917d",
   "metadata": {},
   "outputs": [
    {
     "data": {
      "text/html": [
       "<div>\n",
       "<style scoped>\n",
       "    .dataframe tbody tr th:only-of-type {\n",
       "        vertical-align: middle;\n",
       "    }\n",
       "\n",
       "    .dataframe tbody tr th {\n",
       "        vertical-align: top;\n",
       "    }\n",
       "\n",
       "    .dataframe thead th {\n",
       "        text-align: right;\n",
       "    }\n",
       "</style>\n",
       "<table border=\"1\" class=\"dataframe\">\n",
       "  <thead>\n",
       "    <tr style=\"text-align: right;\">\n",
       "      <th></th>\n",
       "      <th>Epoch</th>\n",
       "      <th>Training Loss</th>\n",
       "      <th>Validation Loss</th>\n",
       "      <th>Validation Accuracy</th>\n",
       "    </tr>\n",
       "  </thead>\n",
       "  <tbody>\n",
       "    <tr>\n",
       "      <th>0</th>\n",
       "      <td>1</td>\n",
       "      <td>0.717410</td>\n",
       "      <td>0.686436</td>\n",
       "      <td>0.503676</td>\n",
       "    </tr>\n",
       "    <tr>\n",
       "      <th>1</th>\n",
       "      <td>2</td>\n",
       "      <td>0.684081</td>\n",
       "      <td>0.655351</td>\n",
       "      <td>0.552407</td>\n",
       "    </tr>\n",
       "    <tr>\n",
       "      <th>2</th>\n",
       "      <td>3</td>\n",
       "      <td>0.669663</td>\n",
       "      <td>0.643021</td>\n",
       "      <td>0.593860</td>\n",
       "    </tr>\n",
       "    <tr>\n",
       "      <th>3</th>\n",
       "      <td>4</td>\n",
       "      <td>0.654755</td>\n",
       "      <td>0.646454</td>\n",
       "      <td>0.610195</td>\n",
       "    </tr>\n",
       "    <tr>\n",
       "      <th>4</th>\n",
       "      <td>5</td>\n",
       "      <td>0.651618</td>\n",
       "      <td>0.638449</td>\n",
       "      <td>0.611880</td>\n",
       "    </tr>\n",
       "    <tr>\n",
       "      <th>5</th>\n",
       "      <td>6</td>\n",
       "      <td>0.645728</td>\n",
       "      <td>0.638246</td>\n",
       "      <td>0.620824</td>\n",
       "    </tr>\n",
       "    <tr>\n",
       "      <th>6</th>\n",
       "      <td>7</td>\n",
       "      <td>0.636125</td>\n",
       "      <td>0.637288</td>\n",
       "      <td>0.629316</td>\n",
       "    </tr>\n",
       "    <tr>\n",
       "      <th>7</th>\n",
       "      <td>8</td>\n",
       "      <td>0.629289</td>\n",
       "      <td>0.619121</td>\n",
       "      <td>0.637357</td>\n",
       "    </tr>\n",
       "    <tr>\n",
       "      <th>8</th>\n",
       "      <td>9</td>\n",
       "      <td>0.613648</td>\n",
       "      <td>0.602753</td>\n",
       "      <td>0.653728</td>\n",
       "    </tr>\n",
       "    <tr>\n",
       "      <th>9</th>\n",
       "      <td>10</td>\n",
       "      <td>0.599367</td>\n",
       "      <td>0.623471</td>\n",
       "      <td>0.665992</td>\n",
       "    </tr>\n",
       "    <tr>\n",
       "      <th>10</th>\n",
       "      <td>11</td>\n",
       "      <td>0.589182</td>\n",
       "      <td>0.575864</td>\n",
       "      <td>0.675656</td>\n",
       "    </tr>\n",
       "    <tr>\n",
       "      <th>11</th>\n",
       "      <td>12</td>\n",
       "      <td>0.578136</td>\n",
       "      <td>0.587107</td>\n",
       "      <td>0.688061</td>\n",
       "    </tr>\n",
       "    <tr>\n",
       "      <th>12</th>\n",
       "      <td>13</td>\n",
       "      <td>0.570329</td>\n",
       "      <td>0.592226</td>\n",
       "      <td>0.695637</td>\n",
       "    </tr>\n",
       "    <tr>\n",
       "      <th>13</th>\n",
       "      <td>14</td>\n",
       "      <td>0.556867</td>\n",
       "      <td>0.575345</td>\n",
       "      <td>0.706906</td>\n",
       "    </tr>\n",
       "    <tr>\n",
       "      <th>14</th>\n",
       "      <td>15</td>\n",
       "      <td>0.545289</td>\n",
       "      <td>0.583704</td>\n",
       "      <td>0.717228</td>\n",
       "    </tr>\n",
       "    <tr>\n",
       "      <th>15</th>\n",
       "      <td>16</td>\n",
       "      <td>0.539678</td>\n",
       "      <td>0.605231</td>\n",
       "      <td>0.720360</td>\n",
       "    </tr>\n",
       "    <tr>\n",
       "      <th>16</th>\n",
       "      <td>17</td>\n",
       "      <td>0.525862</td>\n",
       "      <td>0.579183</td>\n",
       "      <td>0.731493</td>\n",
       "    </tr>\n",
       "    <tr>\n",
       "      <th>17</th>\n",
       "      <td>18</td>\n",
       "      <td>0.514937</td>\n",
       "      <td>0.620923</td>\n",
       "      <td>0.738832</td>\n",
       "    </tr>\n",
       "    <tr>\n",
       "      <th>18</th>\n",
       "      <td>19</td>\n",
       "      <td>0.501873</td>\n",
       "      <td>0.567458</td>\n",
       "      <td>0.748276</td>\n",
       "    </tr>\n",
       "    <tr>\n",
       "      <th>19</th>\n",
       "      <td>20</td>\n",
       "      <td>0.487804</td>\n",
       "      <td>0.608084</td>\n",
       "      <td>0.760563</td>\n",
       "    </tr>\n",
       "  </tbody>\n",
       "</table>\n",
       "</div>"
      ],
      "text/plain": [
       "    Epoch  Training Loss  Validation Loss  Validation Accuracy\n",
       "0       1       0.717410         0.686436             0.503676\n",
       "1       2       0.684081         0.655351             0.552407\n",
       "2       3       0.669663         0.643021             0.593860\n",
       "3       4       0.654755         0.646454             0.610195\n",
       "4       5       0.651618         0.638449             0.611880\n",
       "5       6       0.645728         0.638246             0.620824\n",
       "6       7       0.636125         0.637288             0.629316\n",
       "7       8       0.629289         0.619121             0.637357\n",
       "8       9       0.613648         0.602753             0.653728\n",
       "9      10       0.599367         0.623471             0.665992\n",
       "10     11       0.589182         0.575864             0.675656\n",
       "11     12       0.578136         0.587107             0.688061\n",
       "12     13       0.570329         0.592226             0.695637\n",
       "13     14       0.556867         0.575345             0.706906\n",
       "14     15       0.545289         0.583704             0.717228\n",
       "15     16       0.539678         0.605231             0.720360\n",
       "16     17       0.525862         0.579183             0.731493\n",
       "17     18       0.514937         0.620923             0.738832\n",
       "18     19       0.501873         0.567458             0.748276\n",
       "19     20       0.487804         0.608084             0.760563"
      ]
     },
     "execution_count": 24,
     "metadata": {},
     "output_type": "execute_result"
    }
   ],
   "source": [
    "df"
   ]
  },
  {
   "cell_type": "code",
   "execution_count": 25,
   "id": "a4509257",
   "metadata": {},
   "outputs": [
    {
     "data": {
      "image/png": "[encoded data removed]",
      "text/plain": [
       "<Figure size 640x480 with 1 Axes>"
      ]
     },
     "metadata": {},
     "output_type": "display_data"
    }
   ],
   "source": [
    "import seaborn as sns\n",
    "import matplotlib.pyplot as plt\n",
    "\n",
    "sns.lineplot(data=df, x='Epoch', y='Training Loss', label='Training Loss')\n",
    "sns.lineplot(data=df, x='Epoch', y='Validation Loss', label='Validation Loss')\n",
    "sns.lineplot(data=df, x='Epoch', y='Validation Accuracy', label='Validation Accuracy')\n",
    "\n",
    "plt.xlabel('Epoch')\n",
    "plt.ylabel('Value')\n",
    "plt.title('Training and Validation Metrics')\n",
    "\n",
    "plt.savefig('results/training_loop.png')"
   ]
  }
 ],
 "metadata": {
  "kernelspec": {
   "display_name": "Python 3 (ipykernel)",
   "language": "python",
   "name": "python3"
  },
  "language_info": {
   "codemirror_mode": {
    "name": "ipython",
    "version": 3
   },
   "file_extension": ".py",
   "mimetype": "text/x-python",
   "name": "python",
   "nbconvert_exporter": "python",
   "pygments_lexer": "ipython3",
   "version": "3.11.3"
  }
 },
 "nbformat": 4,
 "nbformat_minor": 5
}
